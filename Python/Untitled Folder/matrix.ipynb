{
 "cells": [
  {
   "cell_type": "code",
   "execution_count": 68,
   "id": "f7c66cc0",
   "metadata": {},
   "outputs": [],
   "source": [
    "import numpy as np\n",
    "import matplotlib as plt\n",
    "from numpyviz import VisualArray\n"
   ]
  },
  {
   "cell_type": "code",
   "execution_count": 104,
   "id": "1a4a830a",
   "metadata": {},
   "outputs": [],
   "source": [
    "mat = [[0 for i in range(5)] for j in range(5)]"
   ]
  },
  {
   "cell_type": "code",
   "execution_count": 105,
   "id": "976a2edf",
   "metadata": {},
   "outputs": [
    {
     "data": {
      "text/plain": [
       "[[0, 0, 0, 0, 0],\n",
       " [0, 0, 0, 0, 0],\n",
       " [0, 0, 0, 0, 0],\n",
       " [0, 0, 0, 0, 0],\n",
       " [0, 0, 0, 0, 0]]"
      ]
     },
     "execution_count": 105,
     "metadata": {},
     "output_type": "execute_result"
    }
   ],
   "source": [
    "mat"
   ]
  },
  {
   "cell_type": "code",
   "execution_count": 91,
   "id": "3008f238",
   "metadata": {},
   "outputs": [],
   "source": [
    "for i in range(len(mat)):\n",
    "    for j in range(len(mat)):\n",
    "        if i > j:\n",
    "            continue\n",
    "        mat[i][j] = 1"
   ]
  },
  {
   "cell_type": "code",
   "execution_count": 106,
   "id": "f3b2e659",
   "metadata": {},
   "outputs": [
    {
     "data": {
      "text/plain": [
       "[[0, 0, 0, 0, 0],\n",
       " [0, 0, 0, 0, 0],\n",
       " [0, 0, 0, 0, 0],\n",
       " [0, 0, 0, 0, 0],\n",
       " [0, 0, 0, 0, 0]]"
      ]
     },
     "execution_count": 106,
     "metadata": {},
     "output_type": "execute_result"
    }
   ],
   "source": [
    "mat"
   ]
  },
  {
   "cell_type": "code",
   "execution_count": 107,
   "id": "9a4e86f4",
   "metadata": {},
   "outputs": [],
   "source": [
    "for i in range(len(mat)):\n",
    "    for j in range(len(mat)):\n",
    "        if i - j == 0:\n",
    "            mat[i][j] = 1\n",
    "        elif i - j == -1:\n",
    "            mat[i][j] = -1\n",
    "        elif i - j == 1:\n",
    "            mat[i][j] = 1"
   ]
  },
  {
   "cell_type": "code",
   "execution_count": 108,
   "id": "202197a8",
   "metadata": {
    "scrolled": true
   },
   "outputs": [
    {
     "data": {
      "text/plain": [
       "[[1, -1, 0, 0, 0],\n",
       " [1, 1, -1, 0, 0],\n",
       " [0, 1, 1, -1, 0],\n",
       " [0, 0, 1, 1, -1],\n",
       " [0, 0, 0, 1, 1]]"
      ]
     },
     "execution_count": 108,
     "metadata": {},
     "output_type": "execute_result"
    }
   ],
   "source": [
    "mat"
   ]
  },
  {
   "cell_type": "code",
   "execution_count": 120,
   "id": "ae47dd72",
   "metadata": {},
   "outputs": [],
   "source": [
    "a = [1, 2, 1, 1]\n",
    "b =set(a)\n",
    "c = set(a)"
   ]
  },
  {
   "cell_type": "code",
   "execution_count": 127,
   "id": "25f2d427",
   "metadata": {},
   "outputs": [
    {
     "ename": "TypeError",
     "evalue": "unsupported operand type(s) for -: 'list' and 'set'",
     "output_type": "error",
     "traceback": [
      "\u001b[0;31m---------------------------------------------------------------------------\u001b[0m",
      "\u001b[0;31mTypeError\u001b[0m                                 Traceback (most recent call last)",
      "\u001b[0;32m/tmp/ipykernel_9723/3944036608.py\u001b[0m in \u001b[0;36m<module>\u001b[0;34m\u001b[0m\n\u001b[0;32m----> 1\u001b[0;31m \u001b[0ma\u001b[0m \u001b[0;34m-\u001b[0m \u001b[0;34m{\u001b[0m\u001b[0;36m1\u001b[0m\u001b[0;34m}\u001b[0m\u001b[0;34m\u001b[0m\u001b[0;34m\u001b[0m\u001b[0m\n\u001b[0m",
      "\u001b[0;31mTypeError\u001b[0m: unsupported operand type(s) for -: 'list' and 'set'"
     ]
    }
   ],
   "source": [
    "a - {1}"
   ]
  },
  {
   "cell_type": "code",
   "execution_count": null,
   "id": "f680b6aa",
   "metadata": {},
   "outputs": [],
   "source": []
  }
 ],
 "metadata": {
  "kernelspec": {
   "display_name": "Python 3 (ipykernel)",
   "language": "python",
   "name": "python3"
  },
  "language_info": {
   "codemirror_mode": {
    "name": "ipython",
    "version": 3
   },
   "file_extension": ".py",
   "mimetype": "text/x-python",
   "name": "python",
   "nbconvert_exporter": "python",
   "pygments_lexer": "ipython3",
   "version": "3.9.7"
  }
 },
 "nbformat": 4,
 "nbformat_minor": 5
}
